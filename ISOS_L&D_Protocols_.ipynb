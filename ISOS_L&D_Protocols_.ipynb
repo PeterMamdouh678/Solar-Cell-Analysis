{
  "nbformat": 4,
  "nbformat_minor": 0,
  "metadata": {
    "colab": {
      "name": "ISOS_L&D Protocols .ipynb",
      "provenance": [],
      "authorship_tag": "ABX9TyOIrM1zL+Rhr3Lp7x5ic1jm",
      "include_colab_link": true
    },
    "kernelspec": {
      "name": "python3",
      "display_name": "Python 3"
    },
    "language_info": {
      "name": "python"
    }
  },
  "cells": [
    {
      "cell_type": "markdown",
      "metadata": {
        "id": "view-in-github",
        "colab_type": "text"
      },
      "source": [
        "<a href=\"https://colab.research.google.com/github/PeterMamdouh678/Solar-Cell-Analysis/blob/main/ISOS_L%26D_Protocols_.ipynb\" target=\"_parent\"><img src=\"https://colab.research.google.com/assets/colab-badge.svg\" alt=\"Open In Colab\"/></a>"
      ]
    },
    {
      "cell_type": "code",
      "metadata": {
        "id": "hvbuMeXLj-xd"
      },
      "source": [
        "import pandas as pd\n",
        "import numpy as np\n",
        "import seaborn as sns\n",
        "import matplotlib.pyplot as plt\n",
        "\n",
        "df = pd.read_csv('/content/intepolated T80.csv')\n"
      ],
      "execution_count": null,
      "outputs": []
    },
    {
      "cell_type": "code",
      "metadata": {
        "id": "uJ-z6wTAmBqC"
      },
      "source": [
        "#Data Cleaning\n",
        "\n",
        "#renaming the needed coloumns \n",
        "df.rename(columns={'Stability. Protocol [ISOS x/IEC x/ …] ' :'Stability_Protocol'\\\n",
        "                   ,'Stability. PCE. T80 [h]':'Stability_PCE'},inplace = True)\n",
        "\n",
        "# Replace all missing or wrong values with Zero\n",
        "\n",
        "df.fillna(0,inplace = True)"
      ],
      "execution_count": null,
      "outputs": []
    },
    {
      "cell_type": "code",
      "metadata": {
        "id": "Q2pUZwrWnnXT"
      },
      "source": [
        "#Seprating ISOS_D, ISOS_L\n",
        "\n",
        "ISOS_D = df[( df[\"Stability_Protocol\"] == 'ISOS_D-1' ) | ( df[\"Stability_Protocol\"] == 'ISOS-D-2' ) \n",
        "            | ( df[\"Stability_Protocol\"] == 'ISOS-D-1I' ) \n",
        "            | ( df[\"Stability_Protocol\"] == 'ISOS-D-2I' ) ]\n",
        "\n",
        "ISOS_L = df[ (df[\"Stability_Protocol\"]=='ISOS-L-1') | (df[\"Stability_Protocol\"]=='ISOS-L-2') \n",
        "            | (df[\"Stability_Protocol\"]=='ISOS-L-2I') | (df[\"Stability_Protocol\"]=='ISOS-L-1I') \n",
        "            | (df[\"Stability_Protocol\"]=='ISOS-L-3') | (df[\"Stability_Protocol\"]=='ISOS-LC-1') \n",
        "            | (df[\"Stability_Protocol\"]=='ISOS-L-C1I')]"
      ],
      "execution_count": null,
      "outputs": []
    },
    {
      "cell_type": "code",
      "metadata": {
        "colab": {
          "base_uri": "https://localhost:8080/"
        },
        "id": "zGZdEnWiNxS0",
        "outputId": "3875c15b-7285-4b3f-8995-769bf48efbdb"
      },
      "source": [
        "# Changing all the names to get all the data collected\n",
        "\n",
        "ISOS_D[\"Stability_Protocol\"].replace(['ISOS-D-1','ISOS-D-2','ISOS-D-1I',\\\n",
        "                                      'ISOS-D-2I'],'ISOS-D',inplace=True)\n"
      ],
      "execution_count": null,
      "outputs": [
        {
          "output_type": "stream",
          "name": "stderr",
          "text": [
            "/usr/local/lib/python3.7/dist-packages/pandas/core/series.py:4582: SettingWithCopyWarning: \n",
            "A value is trying to be set on a copy of a slice from a DataFrame\n",
            "\n",
            "See the caveats in the documentation: https://pandas.pydata.org/pandas-docs/stable/user_guide/indexing.html#returning-a-view-versus-a-copy\n",
            "  method=method,\n"
          ]
        }
      ]
    },
    {
      "cell_type": "code",
      "metadata": {
        "colab": {
          "base_uri": "https://localhost:8080/"
        },
        "id": "WTZQyle1MpwQ",
        "outputId": "9b9e441b-f913-4953-cbb5-0099b1cfacce"
      },
      "source": [
        "  # Changing all the names to get all the data collected\n",
        "\n",
        "ISOS_L[\"Stability_Protocol\"].replace(['ISOS-L-1','ISOS-L-2','ISOS-L-2I',\\\n",
        "                                      'ISOS-L-1I','ISOS-L-3','ISOS-LC-1','ISOS-L-C1I']\\\n",
        "                                     ,'ISOS-L', inplace =True)\n"
      ],
      "execution_count": null,
      "outputs": [
        {
          "output_type": "stream",
          "name": "stderr",
          "text": [
            "/usr/local/lib/python3.7/dist-packages/pandas/core/series.py:4582: SettingWithCopyWarning: \n",
            "A value is trying to be set on a copy of a slice from a DataFrame\n",
            "\n",
            "See the caveats in the documentation: https://pandas.pydata.org/pandas-docs/stable/user_guide/indexing.html#returning-a-view-versus-a-copy\n",
            "  method=method,\n"
          ]
        }
      ]
    },
    {
      "cell_type": "code",
      "metadata": {
        "id": "eydP8WEgMM6D"
      },
      "source": [
        "#Collecting only ISOS_D and ISOS_L together again\n",
        "\n",
        "ISOS_LD = ISOS_D.append(ISOS_L)"
      ],
      "execution_count": null,
      "outputs": []
    },
    {
      "cell_type": "code",
      "metadata": {
        "colab": {
          "base_uri": "https://localhost:8080/",
          "height": 280
        },
        "id": "RPa0Z0bjoOpJ",
        "outputId": "3bc51577-04f7-4331-a890-36ab9629e7e9"
      },
      "source": [
        "#Violin plot for ISOS_L and ISOS_D together\n",
        "\n",
        "plt.figure()\n",
        "sns.violinplot(y=\"Stability_PCE\",x=\"Stability_Protocol\",data=ISOS_LD,figsize=(22,22))\n",
        "plt.yscale(\"log\")\n",
        "plt.show()"
      ],
      "execution_count": null,
      "outputs": [
        {
          "output_type": "display_data",
          "data": {
            "image/png": "[encoded data removed]",
            "text/plain": [
              "<Figure size 432x288 with 1 Axes>"
            ]
          },
          "metadata": {
            "needs_background": "light"
          }
        }
      ]
    }
  ]
}