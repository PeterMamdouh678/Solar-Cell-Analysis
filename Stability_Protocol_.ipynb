{
  "nbformat": 4,
  "nbformat_minor": 0,
  "metadata": {
    "colab": {
      "name": "Stability Protocol .ipynb",
      "provenance": [],
      "authorship_tag": "ABX9TyMzNdJBSYB0Mj1K6Fmg4/Vm",
      "include_colab_link": true
    },
    "kernelspec": {
      "name": "python3",
      "display_name": "Python 3"
    },
    "language_info": {
      "name": "python"
    }
  },
  "cells": [
    {
      "cell_type": "markdown",
      "metadata": {
        "id": "view-in-github",
        "colab_type": "text"
      },
      "source": [
        "<a href=\"https://colab.research.google.com/github/PeterMamdouh678/Solar-Cell-Analysis/blob/main/Stability_Protocol_.ipynb\" target=\"_parent\"><img src=\"https://colab.research.google.com/assets/colab-badge.svg\" alt=\"Open In Colab\"/></a>"
      ]
    },
    {
      "cell_type": "code",
      "metadata": {
        "id": "hvbuMeXLj-xd"
      },
      "source": [
        "import pandas as pd\n",
        "import numpy as np\n",
        "import seaborn as sns\n",
        "import matplotlib.pyplot as plt\n",
        "\n",
        "df = pd.read_csv('/content/intepolated T80.csv')\n"
      ],
      "execution_count": null,
      "outputs": []
    },
    {
      "cell_type": "code",
      "metadata": {
        "id": "uJ-z6wTAmBqC"
      },
      "source": [
        "#Data Cleaning\n",
        "\n",
        "#renaming the needed coloumns \n",
        "df.rename(columns={'Stability. Protocol [ISOS x/IEC x/ …] ' :'Stability_Protocol'\\\n",
        "                   ,'Stability. PCE. T80 [h]':'Stability_PCE'},inplace = True)\n",
        "\n",
        "# Replace all missing or wrong values with Zero\n",
        "\n",
        "df.fillna(0,inplace = True)"
      ],
      "execution_count": null,
      "outputs": []
    },
    {
      "cell_type": "code",
      "source": [
        "df.columns"
      ],
      "metadata": {
        "id": "qQJZt8m8OEPh",
        "outputId": "50374689-eca6-44be-cb37-a8189775c182",
        "colab": {
          "base_uri": "https://localhost:8080/"
        }
      },
      "execution_count": null,
      "outputs": [
        {
          "output_type": "execute_result",
          "data": {
            "text/plain": [
              "Index(['Ref. Publication date [year:mm:dd]', 'Substrate', 'Electrode',\n",
              "       'TL1-front', 'TL2-front', 'TL3-front', 'Unnamed: 6', 'TL4-back',\n",
              "       'TL5-back', 'TL6-back', 'TL7-back', 'Electrode2',\n",
              "       'Cell. Area. Measured [cm^2]', 'Cell. Architecture [nip/pin/ …]',\n",
              "       'Module [TRUE/FALSE]',\n",
              "       'Perovskite. Composition. A-ions [Ion.1; Ion.2; … | Ion.3; … | ...]',\n",
              "       'Perovskite. Composition. B-ions [Ion.1; Ion.2; … | Ion.3; … | ...]',\n",
              "       'Perovskite. Composition. C-ions [Ion.1; Ion.2; … | Ion.3; … | ...]',\n",
              "       'Perovskite. Composition. C-ions. Coefficients [Cof.1; Cof.2; … | Cof.3; … | ...]',\n",
              "       'Perovskite. Additives. Compounds [Addt.1; Addt.2; ... | Addt.3; … | Addt.4 | ... ]',\n",
              "       'Perovskite. Band gap [Eg.1 | Eg.2 | ...] [eV]',\n",
              "       'Perovskite. Deposition. Number of deposition steps',\n",
              "       'Perovskite. Deposition. Procedure [Proc. 1 >> Proc. 2 >> ... | Proc. 3 >> … | Proc. 4 | ... ]',\n",
              "       'Perovskite. Deposition. Solvents [Sol.1; Sol.2 >> Sol.3; ... >> ... | Sol.4 >> … | Sol.5 | ... ]',\n",
              "       'Perovskite. Deposition. Solvents. Mixing ratios [V1; V2 >> V3; V4 >> ... | V5; V6 >> … | 1 | ... ]',\n",
              "       'Perovskite. Deposition. Quenching media [Sol.1; Sol.2; …]',\n",
              "       'Encapsulation [TRUE/FALSE]',\n",
              "       'Encapsulation. Stack sequence [Mat.1; Mat.2; ... | Mat.3; ... | Mat.4 | ...]',\n",
              "       'Encapsulation. Edge sealing materials [Mat.1; Mat.2; ... ]',\n",
              "       'JV. Reverse scan. PCE [%] ', 'JV. Forward scan. PCE [%] ',\n",
              "       'Stability. Measured [TRUE/FALSE]', 'Stability_Protocol',\n",
              "       'Stability. Light source. Type [Dark/White LED/Metal halide/ ...]',\n",
              "       'Stability. Light. UV filter [TRUE/FALSE]',\n",
              "       'Stability. Potential bias. Load condition [Open circuit/MPPT/Constant potential/ …]',\n",
              "       'Stability. Temperature. Range [T.min; T.max] or [T.constant] [deg. C]',\n",
              "       'Stability. Atmosphere [Gas1; Gas2; ...]',\n",
              "       'Stability. Relative humidity. Average value [%]',\n",
              "       'Stability. Time. Total exposure [h]',\n",
              "       'Stability. PCE. Burn in observed [TRUE/FALSE]',\n",
              "       'Stability. PCE. End of experiment [% of initial PCE]', 'Stability_PCE',\n",
              "       'Stability. PCE. Ts80 [h]',\n",
              "       'Stability. PCE. After 1000 h [% of initial PCE]'],\n",
              "      dtype='object')"
            ]
          },
          "metadata": {},
          "execution_count": 37
        }
      ]
    },
    {
      "cell_type": "code",
      "source": [
        "df[\"Stability_Protocol\"].unique()"
      ],
      "metadata": {
        "id": "UvrE0y97dDRD",
        "colab": {
          "base_uri": "https://localhost:8080/"
        },
        "outputId": "e436a5be-5a7f-4ec2-bd8c-bbb4cd6668b8"
      },
      "execution_count": null,
      "outputs": [
        {
          "output_type": "execute_result",
          "data": {
            "text/plain": [
              "array(['ISOS-D-1', 'ISOS-L-1', 'ISOS-D-2', 'ISOS-D-1I', 'ISOS-L-2',\n",
              "       'ISOS‐D‐3', 'ISOS-D-2I', 'ISOS-D-3', 'ISOS-L-2I', 'ISOS-L-1I',\n",
              "       'ISOS-L-3', 'ISOS‐L‐1', 'ISOS-T-1', 'IEC 61215', 'Bending test',\n",
              "       'ISOS-O-1', 'UV-stability', 'ISOS-V-1I', 'ISOS-V-1', 'ISOS-LC-1',\n",
              "       'ISOS-L-C1I', 'Indoor light', 'IEC 61646', 'ISOS-T-3'],\n",
              "      dtype=object)"
            ]
          },
          "metadata": {},
          "execution_count": 33
        }
      ]
    },
    {
      "cell_type": "code",
      "metadata": {
        "id": "Q2pUZwrWnnXT"
      },
      "source": [
        "#Seprating ISOS_D, ISOS_L, ISOS_T, ISOS_O, ISOS_V\n",
        "            \n",
        "ISOS_D = df[( df[\"Stability_Protocol\"] == 'ISOS_D-1' ) | ( df[\"Stability_Protocol\"] == 'ISOS-D-2' ) \n",
        "            | ( df[\"Stability_Protocol\"] == 'ISOS-D-1I' ) | ( df[\"Stability_Protocol\"] == 'ISOS-D-3' ) \n",
        "            | ( df[\"Stability_Protocol\"] == 'ISOS-D-2I' ) ]"
      ],
      "execution_count": null,
      "outputs": []
    },
    {
      "cell_type": "code",
      "source": [
        "ISOS_L = df[ (df[\"Stability_Protocol\"]=='ISOS-L-1') | (df[\"Stability_Protocol\"]=='ISOS-L-2') \n",
        "            | (df[\"Stability_Protocol\"]=='ISOS-L-2I') | (df[\"Stability_Protocol\"]=='ISOS-L-1I') \n",
        "            | (df[\"Stability_Protocol\"]=='ISOS-L-3')]"
      ],
      "metadata": {
        "id": "X0rhCbb6DKfd"
      },
      "execution_count": null,
      "outputs": []
    },
    {
      "cell_type": "code",
      "source": [
        "\n",
        "ISOS_T = df[ (df[\"Stability_Protocol\"] == 'ISOS-T-1') | (df[\"Stability_Protocol\"] == 'ISOS-T-3')]\n"
      ],
      "metadata": {
        "id": "axGi-dA6DKU6"
      },
      "execution_count": null,
      "outputs": []
    },
    {
      "cell_type": "code",
      "source": [
        "ISOS_O = df[ df[\"Stability_Protocol\"] == 'ISOS-O-1' ]\n"
      ],
      "metadata": {
        "id": "FlDTWBX-DKLi"
      },
      "execution_count": null,
      "outputs": []
    },
    {
      "cell_type": "code",
      "source": [
        "ISOS_V = df[( df[\"Stability_Protocol\"] == 'ISOS-V-1I' ) | ( df[\"Stability_Protocol\"] == 'ISOS-V-1' ) ]\n"
      ],
      "metadata": {
        "id": "vBQqTlyoDJ__"
      },
      "execution_count": null,
      "outputs": []
    },
    {
      "cell_type": "code",
      "metadata": {
        "id": "eydP8WEgMM6D"
      },
      "source": [
        "#Collecting only ISOS_D, ISOS_L, ISOS_O, ISOS_V and ISOS_T together again\n",
        "\n",
        "ISOS_LD = ISOS_D.append(ISOS_L)\n",
        "ISOS_LDO = ISOS_O.append(ISOS_LD)\n",
        "ISOS_LDOT = ISOS_T.append(ISOS_LDO)\n",
        "ISOS_LDOTV = ISOS_LDOT.append(ISOS_V)\n"
      ],
      "execution_count": null,
      "outputs": []
    },
    {
      "cell_type": "code",
      "metadata": {
        "colab": {
          "base_uri": "https://localhost:8080/",
          "height": 280
        },
        "id": "RPa0Z0bjoOpJ",
        "outputId": "cd153693-327e-49ea-9d67-d75c542cbc65"
      },
      "source": [
        "#Violin plot for ISOS_L\n",
        "\n",
        "plt.figure()\n",
        "sns.violinplot(y=\"Stability_PCE\",x=\"Stability_Protocol\",data=ISOS_L,figsize=(30,30))\n",
        "plt.yscale(\"log\")\n",
        "plt.show()"
      ],
      "execution_count": null,
      "outputs": [
        {
          "output_type": "display_data",
          "data": {
            "image/png": "[encoded data removed]",
            "text/plain": [
              "<Figure size 432x288 with 1 Axes>"
            ]
          },
          "metadata": {
            "needs_background": "light"
          }
        }
      ]
    },
    {
      "cell_type": "code",
      "source": [
        "plt.figure()\n",
        "sns.violinplot(y=\"Stability_PCE\",x=\"Stability_Protocol\",data=ISOS_LDOTV,figsize=(60,60))\n",
        "plt.yscale(\"log\")\n",
        "plt.xticks(rotation=75)\n",
        "plt.show()"
      ],
      "metadata": {
        "id": "H4dlFPnReFL0",
        "colab": {
          "base_uri": "https://localhost:8080/",
          "height": 319
        },
        "outputId": "f243fff8-1951-4ca2-f30c-07e6290e9b2a"
      },
      "execution_count": null,
      "outputs": [
        {
          "output_type": "display_data",
          "data": {
            "image/png": "[encoded data removed]",
            "text/plain": [
              "<Figure size 432x288 with 1 Axes>"
            ]
          },
          "metadata": {
            "needs_background": "light"
          }
        }
      ]
    },
    {
      "cell_type": "code",
      "source": [
        ""
      ],
      "metadata": {
        "id": "cAKvlNDjNtIm"
      },
      "execution_count": null,
      "outputs": []
    }
  ]
}